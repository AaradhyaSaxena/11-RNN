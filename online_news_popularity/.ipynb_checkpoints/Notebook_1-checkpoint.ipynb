{
 "cells": [
  {
   "cell_type": "code",
   "execution_count": 1,
   "metadata": {},
   "outputs": [],
   "source": [
    "import numpy as np\n",
    "import matplotlib.pyplot as plt\n",
    "import pandas as pd\n",
    "import seaborn as sns\n",
    "sns.set(style=\"white\")\n",
    "\n",
    "import requests\n",
    "from bs4 import BeautifulSoup\n",
    "from newspaper import Article \n",
    "from utils import *"
   ]
  },
  {
   "cell_type": "code",
   "execution_count": 2,
   "metadata": {},
   "outputs": [],
   "source": [
    "data = pd.read_csv(\"data/OnlineNewsPopularity.csv\")\n",
    "data.head()\n",
    "FILEPATH = 'data/OnlineNewsPopularity.csv'"
   ]
  },
  {
   "cell_type": "code",
   "execution_count": 3,
   "metadata": {},
   "outputs": [
    {
     "data": {
      "text/plain": [
       "Index(['url', ' timedelta', ' n_tokens_title', ' n_tokens_content',\n",
       "       ' n_unique_tokens', ' n_non_stop_words', ' n_non_stop_unique_tokens',\n",
       "       ' num_hrefs', ' num_self_hrefs', ' num_imgs', ' num_videos',\n",
       "       ' average_token_length', ' num_keywords', ' data_channel_is_lifestyle',\n",
       "       ' data_channel_is_entertainment', ' data_channel_is_bus',\n",
       "       ' data_channel_is_socmed', ' data_channel_is_tech',\n",
       "       ' data_channel_is_world', ' kw_min_min', ' kw_max_min', ' kw_avg_min',\n",
       "       ' kw_min_max', ' kw_max_max', ' kw_avg_max', ' kw_min_avg',\n",
       "       ' kw_max_avg', ' kw_avg_avg', ' self_reference_min_shares',\n",
       "       ' self_reference_max_shares'],\n",
       "      dtype='object')"
      ]
     },
     "execution_count": 3,
     "metadata": {},
     "output_type": "execute_result"
    }
   ],
   "source": [
    "col = data.columns\n",
    "col[:30]"
   ]
  },
  {
   "cell_type": "code",
   "execution_count": 4,
   "metadata": {
    "scrolled": true
   },
   "outputs": [
    {
     "data": {
      "text/plain": [
       "count     39644.000000\n",
       "mean       3395.380184\n",
       "std       11626.950749\n",
       "min           1.000000\n",
       "25%         946.000000\n",
       "50%        1400.000000\n",
       "75%        2800.000000\n",
       "max      843300.000000\n",
       "Name:  shares, dtype: float64"
      ]
     },
     "execution_count": 4,
     "metadata": {},
     "output_type": "execute_result"
    }
   ],
   "source": [
    "data[' shares'].describe()"
   ]
  },
  {
   "cell_type": "markdown",
   "metadata": {},
   "source": [
    "### Selecting important features"
   ]
  },
  {
   "cell_type": "code",
   "execution_count": 5,
   "metadata": {},
   "outputs": [],
   "source": [
    "# first_half = data[col[:30]]\n",
    "\n",
    "# first_half = pd.concat([data[' shares'], first_half], axis=1)\n",
    "\n",
    "# corr = first_half.corr()\n",
    "# mask = np.triu(np.ones_like(corr, dtype=np.bool))\n",
    "\n",
    "# f, ax = plt.subplots(figsize=(11, 9))\n",
    "# cmap = sns.diverging_palette(220, 10, as_cmap=True)\n",
    "\n",
    "# sns.heatmap(corr, mask=mask, cmap=cmap, vmax=.3, center=0,\n",
    "#             square=True, linewidths=.5, cbar_kws={\"shrink\": .5})"
   ]
  },
  {
   "cell_type": "code",
   "execution_count": 6,
   "metadata": {},
   "outputs": [],
   "source": [
    "# sec_half = data[col[30:]]\n",
    "\n",
    "# sec_half = pd.concat([data[' shares'], sec_half], axis=1)\n",
    "\n",
    "# corr = sec_half.corr()\n",
    "# mask = np.triu(np.ones_like(corr, dtype=np.bool))\n",
    "\n",
    "# f, ax = plt.subplots(figsize=(11, 9))\n",
    "# cmap = sns.diverging_palette(220, 10, as_cmap=True)\n",
    "\n",
    "# sns.heatmap(corr, mask=mask, cmap=cmap, vmax=.3, center=0,\n",
    "#             square=True, linewidths=.5, cbar_kws={\"shrink\": .5})"
   ]
  },
  {
   "cell_type": "code",
   "execution_count": 7,
   "metadata": {},
   "outputs": [],
   "source": [
    "# features = data[col].corr()[' shares'][:]\n",
    "# # features = np.array(features)\n",
    "# features"
   ]
  },
  {
   "cell_type": "code",
   "execution_count": null,
   "metadata": {},
   "outputs": [],
   "source": []
  },
  {
   "cell_type": "code",
   "execution_count": null,
   "metadata": {},
   "outputs": [],
   "source": []
  },
  {
   "cell_type": "code",
   "execution_count": null,
   "metadata": {},
   "outputs": [],
   "source": []
  },
  {
   "cell_type": "code",
   "execution_count": null,
   "metadata": {},
   "outputs": [],
   "source": []
  },
  {
   "cell_type": "code",
   "execution_count": null,
   "metadata": {},
   "outputs": [],
   "source": []
  },
  {
   "cell_type": "code",
   "execution_count": null,
   "metadata": {},
   "outputs": [],
   "source": []
  },
  {
   "cell_type": "markdown",
   "metadata": {},
   "source": [
    "-----------------------------"
   ]
  },
  {
   "cell_type": "markdown",
   "metadata": {},
   "source": [
    "Scraping articles form news website and Pre-processing"
   ]
  },
  {
   "cell_type": "code",
   "execution_count": 8,
   "metadata": {},
   "outputs": [],
   "source": [
    "# url = \"https://in.mashable.com/\"\n",
    "# r = requests.get(url)\n",
    "\n",
    "# soup = BeautifulSoup(r.content, 'html5lib') \n",
    "# table = soup.findAll('a', attrs = {'class':'lnk'})\n",
    "\n",
    "# news = []\n",
    "# for url in table:\n",
    "#     news.append(url['href'])\n",
    "\n",
    "# news"
   ]
  },
  {
   "cell_type": "code",
   "execution_count": 9,
   "metadata": {},
   "outputs": [],
   "source": [
    "# dt = []\n",
    "# for url in news:\n",
    "#     article = Article(url, language=\"en\")\n",
    "#     article.download() \n",
    "#     article.parse() \n",
    "#     article.nlp() \n",
    "#     df={}\n",
    "#     df['Title']=article.title\n",
    "#     df['Text']=article.text\n",
    "#     df['Summary']=article.summary\n",
    "#     df['Keywords']=article.keywords\n",
    "#     dt.append(df)"
   ]
  },
  {
   "cell_type": "code",
   "execution_count": 10,
   "metadata": {},
   "outputs": [],
   "source": [
    "# dataset=pd.DataFrame(dt)\n",
    "# dataset.head()"
   ]
  },
  {
   "cell_type": "code",
   "execution_count": null,
   "metadata": {},
   "outputs": [],
   "source": []
  },
  {
   "cell_type": "code",
   "execution_count": null,
   "metadata": {},
   "outputs": [],
   "source": []
  },
  {
   "cell_type": "code",
   "execution_count": null,
   "metadata": {},
   "outputs": [],
   "source": []
  },
  {
   "cell_type": "code",
   "execution_count": null,
   "metadata": {},
   "outputs": [],
   "source": []
  },
  {
   "cell_type": "code",
   "execution_count": 11,
   "metadata": {},
   "outputs": [],
   "source": [
    "url = \"https://in.mashable.com/\"\n",
    "# url = \"https://www.bbc.com/\"\n",
    "url = \"https://timesofindia.indiatimes.com/world\"\n",
    "r = requests.get(url)"
   ]
  },
  {
   "cell_type": "code",
   "execution_count": 12,
   "metadata": {},
   "outputs": [
    {
     "data": {
      "text/plain": [
       "[<a class=\"w_img\" href=\"/world/europe/as-virus-lockdown-eases-italy-ponders-what-went-wrong/articleshow/75393376.cms\" pg=\"-world/europe#Story_View-1-geturl\" title=\"As virus lockdown eases, Italy ponders what went wrong\"><img alt=\"As virus lockdown eases, Italy ponders what went wrong\" data-src=\"https://timesofindia.indiatimes.com/photo/75393413.cms\" pg=\"-world/europe#Story_View-1-geturl\" src=\"https://timesofindia.indiatimes.com/photo/34824568.cms\"/></a>,\n",
       " <a class=\"w_img\" href=\"/videos/news/covid-19-lockdown-reveals-fresh-and-clean-air-in-india/videoshow/75293007.cms\" pg=\"-videos#Video_View-1-geturl\" title=\"Covid-19: Lockdown reveals fresh and clean air in India\"><img alt=\"Covid-19: Lockdown reveals fresh and clean air in India\" data-src=\"https://timesofindia.indiatimes.com/thumb/msid-75293007,width-255,resizemode-4,imgsize-216340/75293007.jpg\" pg=\"-videos#Video_View-1-geturl\" src=\"https://timesofindia.indiatimes.com/photo/34824568.cms\"/><i class=\"iconvideo\"></i></a>,\n",
       " <a class=\"w_img\" href=\"/videos/international/irans-guard-says-it-launched-satellite/videoshow/75292890.cms\" pg=\"-videos#Video_View-2-geturl\" title=\"Iran's Guard says it launched satellite\"><img alt=\"Iran's Guard says it launched satellite\" data-src=\"https://timesofindia.indiatimes.com/thumb/msid-75292890,width-255,resizemode-4,imgsize-166905/75292890.jpg\" pg=\"-videos#Video_View-2-geturl\" src=\"https://timesofindia.indiatimes.com/photo/34824568.cms\"/><i class=\"iconvideo\"></i></a>,\n",
       " <a class=\"w_img\" href=\"/videos/international/covid-19-virus-shutdown-shows-human-impact-on-earth/videoshow/75292958.cms\" pg=\"-videos#Video_View-3-geturl\" title=\"Covid-19: Virus shutdown shows human impact on Earth\"><img alt=\"Covid-19: Virus shutdown shows human impact on Earth\" data-src=\"https://timesofindia.indiatimes.com/thumb/msid-75292958,width-255,resizemode-4,imgsize-259486/75292958.jpg\" pg=\"-videos#Video_View-3-geturl\" src=\"https://timesofindia.indiatimes.com/photo/34824568.cms\"/><i class=\"iconvideo\"></i></a>,\n",
       " <a class=\"w_img\" href=\"/videos/international/san-francisco-dog-stolen-in-december-has-joyous-reunion-with-owner/videoshow/75292867.cms\" pg=\"-videos#Video_View-4-geturl\" title=\"San Francisco: Dog stolen in December has joyous reunion with owner\"><img alt=\"San Francisco: Dog stolen in December has joyous reunion with owner\" data-src=\"https://timesofindia.indiatimes.com/thumb/msid-75292867,width-255,resizemode-4,imgsize-164057/75292867.jpg\" pg=\"-videos#Video_View-4-geturl\" src=\"https://timesofindia.indiatimes.com/photo/34824568.cms\"/><i class=\"iconvideo\"></i></a>,\n",
       " <a class=\"w_img\" href=\"/videos/news/covid-19-oil-prices-drop-to-historic-lows-after-extreme-collapse-in-demand/videoshow/75263963.cms\" pg=\"-videos#Video_View-5-geturl\" title=\"COVID-19: Oil prices drop to historic lows after extreme collapse in demand\"><img alt=\"COVID-19: Oil prices drop to historic lows after extreme collapse in demand\" data-src=\"https://timesofindia.indiatimes.com/thumb/msid-75263963,width-255,resizemode-4,imgsize-93278/75263963.jpg\" pg=\"-videos#Video_View-5-geturl\" src=\"https://timesofindia.indiatimes.com/photo/34824568.cms\"/><i class=\"iconvideo\"></i></a>,\n",
       " <a class=\"w_img\" href=\"/videos/international/covid-19-los-angeles-study-indicates-higher-infection-rate/videoshow/75270198.cms\" pg=\"-videos#Video_View-6-geturl\" title=\"Covid-19: Los Angeles study indicates higher infection rate\"><img alt=\"Covid-19: Los Angeles study indicates higher infection rate\" data-src=\"https://timesofindia.indiatimes.com/thumb/msid-75270198,width-255,resizemode-4,imgsize-295312/75270198.jpg\" pg=\"-videos#Video_View-6-geturl\" src=\"https://timesofindia.indiatimes.com/photo/34824568.cms\"/><i class=\"iconvideo\"></i></a>,\n",
       " <a class=\"w_img\" href=\"/videos/international/covid-19-president-trump-says-politics-is-behind-testing-criticism/videoshow/75270317.cms\" pg=\"-videos#Video_View-7-geturl\" title=\"Covid-19: President Trump says 'politics' is behind testing criticism\"><img alt=\"Covid-19: President Trump says 'politics' is behind testing criticism\" data-src=\"https://timesofindia.indiatimes.com/thumb/msid-75270317,width-255,resizemode-4,imgsize-253193/75270317.jpg\" pg=\"-videos#Video_View-7-geturl\" src=\"https://timesofindia.indiatimes.com/photo/34824568.cms\"/><i class=\"iconvideo\"></i></a>,\n",
       " <a class=\"w_img\" href=\"/videos/international/covid-19-cemetery-races-to-keep-up-as-new-york-deaths-mount/videoshow/75270226.cms\" pg=\"-videos#Video_View-8-geturl\" title=\"Covid-19: Cemetery races to keep up as New York deaths mount\"><img alt=\"Covid-19: Cemetery races to keep up as New York deaths mount\" data-src=\"https://timesofindia.indiatimes.com/thumb/msid-75270226,width-255,resizemode-4,imgsize-60902/75270226.jpg\" pg=\"-videos#Video_View-8-geturl\" src=\"https://timesofindia.indiatimes.com/photo/34824568.cms\"/><i class=\"iconvideo\"></i></a>,\n",
       " <a class=\"w_img\" href=\"/videos/international/texans-visit-state-parks-in-governors-reopening/videoshow/75270363.cms\" pg=\"-videos#Video_View-9-geturl\" title=\"Texans visit state parks in governor’s 'reopening'\"><img alt=\"Texans visit state parks in governor’s 'reopening'\" data-src=\"https://timesofindia.indiatimes.com/thumb/msid-75270363,width-255,resizemode-4,imgsize-275582/75270363.jpg\" pg=\"-videos#Video_View-9-geturl\" src=\"https://timesofindia.indiatimes.com/photo/34824568.cms\"/><i class=\"iconvideo\"></i></a>,\n",
       " <a class=\"w_img\" href=\"/videos/international/covid-19-protest-in-favour-of-easing-lockdown-in-us/videoshow/75232498.cms\" pg=\"-videos#Video_View-10-geturl\" title=\"Covid-19: Protest in favour of easing lockdown in US\"><img alt=\"Covid-19: Protest in favour of easing lockdown in US\" data-src=\"https://timesofindia.indiatimes.com/thumb/msid-75232498,width-255,resizemode-4,imgsize-330316/75232498.jpg\" pg=\"-videos#Video_View-10-geturl\" src=\"https://timesofindia.indiatimes.com/photo/34824568.cms\"/><i class=\"iconvideo\"></i></a>,\n",
       " <a class=\"w_img\" href=\"/world/us/donald-trump-may-replace-health-secretary-seema-verma-in-succession-shortlist/articleshow/75387934.cms\" pg=\"-world/us#Story_View-1-geturl\" title=\"Donald Trump may replace Health Secretary, Seema Verma in succession shortlist\"><img alt=\"Donald Trump may replace Health Secretary, Seema Verma in succession shortlist\" data-src=\"https://timesofindia.indiatimes.com/thumb/imgsize-38874,msid-75387923,width-200,resizemode-4/75387923.jpg\" pg=\"-world/us#Story_View-1-geturl\" src=\"https://timesofindia.indiatimes.com/photo/34824568.cms\"/></a>,\n",
       " <a class=\"w_img\" href=\"/world/pakistan/pak-denies-preparing-vaccine-for-covid-19-cases-cross-12000/articleshow/75389506.cms\" pg=\"-world/pakistan#Story_View-1-geturl\" title=\"Pak denies preparing vaccine for COVID-19; cases cross 12,000\"><img alt=\"Pak denies preparing vaccine for COVID-19; cases cross 12,000\" data-src=\"https://timesofindia.indiatimes.com/thumb/imgsize-170479,msid-75389541,width-200,resizemode-4/75389541.jpg\" pg=\"-world/pakistan#Story_View-1-geturl\" src=\"https://timesofindia.indiatimes.com/photo/34824568.cms\"/></a>,\n",
       " <a class=\"w_img\" href=\"/world/south-asia/bangladesh-garment-factories-reopen-defying-virus-lockdown/articleshow/75390166.cms\" pg=\"-world/south-asia#Story_View-1-geturl\" title=\"Bangladesh garment factories reopen, defying virus lockdown\"><img alt=\"Bangladesh garment factories reopen, defying virus lockdown\" data-src=\"https://timesofindia.indiatimes.com/thumb/imgsize-97776,msid-75390176,width-200,resizemode-4/75390176.jpg\" pg=\"-world/south-asia#Story_View-1-geturl\" src=\"https://timesofindia.indiatimes.com/photo/34824568.cms\"/></a>,\n",
       " <a class=\"w_img\" href=\"/world/uk/uk-resists-calls-to-ease-lockdown-as-johnson-set-to-return-to-work/articleshow/75390615.cms\" pg=\"-world/uk#Story_View-1-geturl\" title=\"UK resists calls to ease lockdown as Johnson set to return to work\"><img alt=\"UK resists calls to ease lockdown as Johnson set to return to work\" data-src=\"https://timesofindia.indiatimes.com/thumb/imgsize-1760906,msid-75390766,width-200,resizemode-4/75390766.jpg\" pg=\"-world/uk#Story_View-1-geturl\" src=\"https://timesofindia.indiatimes.com/photo/34824568.cms\"/></a>,\n",
       " <a class=\"w_img\" href=\"/world/europe/german-minister-backs-creating-legal-right-to-work-from-home/articleshow/75393052.cms\" pg=\"-world/europe#Story_View-1-geturl\" title=\"German minister backs creating legal right to work from home\"><img alt=\"German minister backs creating legal right to work from home\" data-src=\"https://timesofindia.indiatimes.com/thumb/imgsize-19650,msid-75393098,width-200,resizemode-4/75393098.jpg\" pg=\"-world/europe#Story_View-1-geturl\" src=\"https://timesofindia.indiatimes.com/photo/34824568.cms\"/></a>,\n",
       " <a class=\"w_img\" href=\"/world/china/covid-19-cases-in-wuhan-hospitals-drop-to-zero-for-1st-time/articleshow/75390046.cms\" pg=\"-world/china#Story_View-1-geturl\" title=\"Covid-19 cases in Wuhan hospitals drop to zero for 1st time\"><img alt=\"Covid-19 cases in Wuhan hospitals drop to zero for 1st time\" data-src=\"https://timesofindia.indiatimes.com/thumb/imgsize-102253,msid-75390075,width-200,resizemode-4/75390075.jpg\" pg=\"-world/china#Story_View-1-geturl\" src=\"https://timesofindia.indiatimes.com/photo/34824568.cms\"/></a>,\n",
       " <a class=\"w_img\" href=\"/world/middle-east/saudi-arabia-eases-coronavirus-curfews-keeps-24-hour-curfew-in-mecca/articleshow/75388977.cms\" pg=\"-world/middle-east#Story_View-1-geturl\" title=\"Saudi Arabia eases coronavirus curfews, keeps 24-hour curfew in Mecca\"><img alt=\"Saudi Arabia eases coronavirus curfews, keeps 24-hour curfew in Mecca\" data-src=\"https://timesofindia.indiatimes.com/thumb/imgsize-97571,msid-75388974,width-200,resizemode-4/75388974.jpg\" pg=\"-world/middle-east#Story_View-1-geturl\" src=\"https://timesofindia.indiatimes.com/photo/34824568.cms\"/></a>,\n",
       " <a class=\"w_img\" href=\"/world/rest-of-world/russia-at-risk-of-spike-in-coronavirus-cases-during-may-holidays-official/articleshow/75392812.cms\" pg=\"-world/rest-of-world#Story_View-1-geturl\" title=\"Russia at risk of spike in coronavirus cases during May holidays: Official\"><img alt=\"Russia at risk of spike in coronavirus cases during May holidays: Official\" data-src=\"https://timesofindia.indiatimes.com/thumb/imgsize-63257,msid-75392994,width-200,resizemode-4/75392994.jpg\" pg=\"-world/rest-of-world#Story_View-1-geturl\" src=\"https://timesofindia.indiatimes.com/photo/34824568.cms\"/></a>,\n",
       " <a class=\"w_img\" href=\"/world/mad-mad-world/man-tries-to-smuggle-girlfriend-in-car-trunk-during-lockdown/articleshow/75347310.cms\" pg=\"-world/mad-mad-world#Story_View-1-geturl\" title=\"Man tries to smuggle girlfriend in car trunk during lockdown\"><img alt=\"Man tries to smuggle girlfriend in car trunk during lockdown\" data-src=\"https://timesofindia.indiatimes.com/thumb/imgsize-89380,msid-75347755,width-200,resizemode-4/75347755.jpg\" pg=\"-world/mad-mad-world#Story_View-1-geturl\" src=\"https://timesofindia.indiatimes.com/photo/34824568.cms\"/></a>,\n",
       " <a class=\"w_img\" href=\"http://photogallery.indiatimes.com/news/world/muslims-mark-low-key-ramadan-amid-coronavirus-pandemic/articleshow/75374943.cms\" pg=\"-news#Story_View-1-geturl\" title=\"Muslims mark low-key Ramadan amid coronavirus pandemic\"><img alt=\"Muslims mark low-key Ramadan amid coronavirus pandemic\" data-src=\"https://timesofindia.indiatimes.com/thumb/imgsize-1179864,msid-75374943,width-150,resizemode-4/75374943.jpg\" pg=\"-news#Story_View-1-geturl\" src=\"https://timesofindia.indiatimes.com/photo/34824568.cms\"/></a>,\n",
       " <a class=\"w_img\" href=\"http://photogallery.indiatimes.com/news/world/in-pics-uk-coronavirus-death-toll-crosses-18000/articleshow/75314255.cms\" pg=\"-news#Story_View-2-geturl\" title=\"In pics: UK coronavirus death toll crosses 18,000\"><img alt=\"In pics: UK coronavirus death toll crosses 18,000\" data-src=\"https://timesofindia.indiatimes.com/thumb/imgsize-313631,msid-75314255,width-150,resizemode-4/75314255.jpg\" pg=\"-news#Story_View-2-geturl\" src=\"https://timesofindia.indiatimes.com/photo/34824568.cms\"/></a>,\n",
       " <a class=\"w_img\" href=\"http://photogallery.indiatimes.com/news/world/pictures-of-libraries/articleshow/75313453.cms\" pg=\"-news#Story_View-3-geturl\" title=\"Mesmerising pictures of libraries around the world every book lover must see\"><img alt=\"Mesmerising pictures of libraries around the world every book lover must see\" data-src=\"https://timesofindia.indiatimes.com/thumb/imgsize-347004,msid-75313453,width-150,resizemode-4/75313453.jpg\" pg=\"-news#Story_View-3-geturl\" src=\"https://timesofindia.indiatimes.com/photo/34824568.cms\"/></a>,\n",
       " <a class=\"w_img\" href=\"http://photogallery.indiatimes.com/news/world/world-earth-day-these-before-and-after-pictures-of-mother-nature-prove-that-its-a-wake-up-call-for-humans/articleshow/75290115.cms\" pg=\"-news#Story_View-4-geturl\" title=\"World Earth Day: These before and after pictures of Mother Nature prove that it's a wake up call for humans!\"><img alt=\"World Earth Day: These before and after pictures of Mother Nature prove that it's a wake up call for humans!\" data-src=\"https://timesofindia.indiatimes.com/thumb/imgsize-538967,msid-75290115,width-150,resizemode-4/75290115.jpg\" pg=\"-news#Story_View-4-geturl\" src=\"https://timesofindia.indiatimes.com/photo/34824568.cms\"/></a>,\n",
       " <a class=\"w_img\" href=\"http://photogallery.indiatimes.com/news/world/in-pics-coronavirus-death-toll-crosses-45000-in-america/articleshow/75284837.cms\" pg=\"-news#Story_View-5-geturl\" title=\"In pics: Coronavirus death toll crosses 45,000 in America\"><img alt=\"In pics: Coronavirus death toll crosses 45,000 in America\" data-src=\"https://timesofindia.indiatimes.com/thumb/imgsize-55531,msid-75284837,width-150,resizemode-4/75284837.jpg\" pg=\"-news#Story_View-5-geturl\" src=\"https://timesofindia.indiatimes.com/photo/34824568.cms\"/></a>,\n",
       " <a class=\"w_img\" href=\"http://photogallery.indiatimes.com/news/world/viral-pictures-of-widowed-penguins-finding-comfort-in-each-other-will-surely-melt-your-heart/articleshow/75273195.cms\" pg=\"-news#Story_View-6-geturl\" title=\"Viral pictures of widowed Penguins finding comfort in each other will surely melt your heart!\"><img alt=\"Viral pictures of widowed Penguins finding comfort in each other will surely melt your heart!\" data-src=\"https://timesofindia.indiatimes.com/thumb/imgsize-478656,msid-75273195,width-150,resizemode-4/75273195.jpg\" pg=\"-news#Story_View-6-geturl\" src=\"https://timesofindia.indiatimes.com/photo/34824568.cms\"/></a>,\n",
       " <a class=\"w_img\" href=\"http://photogallery.indiatimes.com/news/world/quarantined-people-recreating-famous-works-of-art/articleshow/75271176.cms\" pg=\"-news#Story_View-7-geturl\" title=\"Rib-tickling pictures of quarantined people recreating famous works of art\"><img alt=\"Rib-tickling pictures of quarantined people recreating famous works of art\" data-src=\"https://timesofindia.indiatimes.com/thumb/imgsize-608236,msid-75271176,width-150,resizemode-4/75271176.jpg\" pg=\"-news#Story_View-7-geturl\" src=\"https://timesofindia.indiatimes.com/photo/34824568.cms\"/></a>,\n",
       " <a class=\"w_img\" href=\"http://photogallery.indiatimes.com/news/world/protest-erupts-against-coronavirus-lockdown-in-america/articleshow/75267858.cms\" pg=\"-news#Story_View-8-geturl\" title=\"Protest erupts against coronavirus lockdown in America\"><img alt=\"Protest erupts against coronavirus lockdown in America\" data-src=\"https://timesofindia.indiatimes.com/thumb/imgsize-465152,msid-75267858,width-150,resizemode-4/75267858.jpg\" pg=\"-news#Story_View-8-geturl\" src=\"https://timesofindia.indiatimes.com/photo/34824568.cms\"/></a>,\n",
       " <a class=\"w_img\" href=\"/nri/us-canada-news/indian-american-lawyer-seema-nanda-to-step-down-as-ceo-of-democratic-party/articleshow/75371135.cms\" pg=\"-nri/us-canada-news#Story_View-1-geturl\" title=\"Indian-American lawyer Seema Nanda to step down as CEO of Democratic Party\"><img alt=\"Indian-American lawyer Seema Nanda to step down as CEO of Democratic Party\" data-src=\"https://timesofindia.indiatimes.com/thumb/imgsize-68124,msid-75371235,width-200,resizemode-4/75371235.jpg\" pg=\"-nri/us-canada-news#Story_View-1-geturl\" src=\"https://timesofindia.indiatimes.com/photo/34824568.cms\"/></a>,\n",
       " <a class=\"w_img\" href=\"/nri/indian-american-woman-elected-to-american-academy-of-arts-and-sciences/articleshow/75372404.cms\" pg=\"-nri#Story_View-2-geturl\" title=\"Indian-American woman elected to American Academy of Arts and Sciences\"><img alt=\"Indian-American woman elected to American Academy of Arts and Sciences\" data-src=\"https://timesofindia.indiatimes.com/thumb/imgsize-32323,msid-75372632,width-200,resizemode-4/75372632.jpg\" pg=\"-nri#Story_View-2-geturl\" src=\"https://timesofindia.indiatimes.com/photo/34824568.cms\"/></a>,\n",
       " <a class=\"w_img\" href=\"/nri/coronavirus-indian-american-ngo-raises-1-million-for-relief-work-in-us-india/articleshow/75340264.cms\" pg=\"-nri#Story_View-3-geturl\" title=\"Coronavirus: Indian-American NGO raises $1 million for relief work in US, India\"><img alt=\"Coronavirus: Indian-American NGO raises $1 million for relief work in US, India\" data-src=\"https://timesofindia.indiatimes.com/thumb/imgsize-508207,msid-75341511,width-200,resizemode-4/75341511.jpg\" pg=\"-nri#Story_View-3-geturl\" src=\"https://timesofindia.indiatimes.com/photo/34824568.cms\"/></a>,\n",
       " <a class=\"w_img\" href=\"/nri/us-canada-news/indian-origin-doctor-honoured-for-her-services-in-fighting-coronavirus-in-us/articleshow/75302847.cms\" pg=\"-nri/us-canada-news#Story_View-4-geturl\" title=\"Indian-origin doctor honoured for her services in fighting Coronavirus in US\"><img alt=\"Indian-origin doctor honoured for her services in fighting Coronavirus in US\" data-src=\"https://timesofindia.indiatimes.com/thumb/imgsize-582197,msid-75302908,width-200,resizemode-4/75302908.jpg\" pg=\"-nri/us-canada-news#Story_View-4-geturl\" src=\"https://timesofindia.indiatimes.com/photo/34824568.cms\"/></a>,\n",
       " <a class=\"w_img\" href=\"/nri/indian-origin-man-charged-with-coronavirus-related-offences-in-singapore/articleshow/75291371.cms\" pg=\"-nri#Story_View-5-geturl\" title=\"Indian-origin man charged with coronavirus related offences in Singapore\"><img alt=\"Indian-origin man charged with coronavirus related offences in Singapore\" data-src=\"https://timesofindia.indiatimes.com/thumb/imgsize-98527,msid-75291506,width-200,resizemode-4/75291506.jpg\" pg=\"-nri#Story_View-5-geturl\" src=\"https://timesofindia.indiatimes.com/photo/34824568.cms\"/></a>,\n",
       " <a class=\"w_img\" href=\"/india/indian-origin-nobel-laureate-venki-ramakrishnan-in-uks-covid-19-expert-group/articleshow/75206707.cms\" pg=\"-india#Story_View-6-geturl\" title=\"Indian-origin Nobel laureate Venki Ramakrishnan in UK's Covid-19 expert group\"><img alt=\"Indian-origin Nobel laureate Venki Ramakrishnan in UK's Covid-19 expert group\" data-src=\"https://timesofindia.indiatimes.com/thumb/imgsize-224568,msid-75206872,width-200,resizemode-4/75206872.jpg\" pg=\"-india#Story_View-6-geturl\" src=\"https://timesofindia.indiatimes.com/photo/34824568.cms\"/></a>,\n",
       " <a class=\"w_img\" href=\"/nri/us-canada-news/indian-american-congressman-ro-khanna-in-white-house-coronavirus-advisory-council/articleshow/75191948.cms\" pg=\"-nri/us-canada-news#Story_View-7-geturl\" title=\"Indian-American Ro Khanna in WH Corona advisory council\"><img alt=\"Indian-American Ro Khanna in WH Corona advisory council\" data-src=\"https://timesofindia.indiatimes.com/thumb/imgsize-330979,msid-75191985,width-200,resizemode-4/75191985.jpg\" pg=\"-nri/us-canada-news#Story_View-7-geturl\" src=\"https://timesofindia.indiatimes.com/photo/34824568.cms\"/></a>,\n",
       " <a class=\"w_img\" href=\"/nri/middle-east-news/3-indian-expats-in-uae-win-5-million-jackpot/articleshow/74987711.cms\" pg=\"-nri/middle-east-news#Story_View-8-geturl\" title=\"3 Indian expats in UAE win $5 million jackpot\"><img alt=\"3 Indian expats in UAE win $5 million jackpot\" data-src=\"https://timesofindia.indiatimes.com/thumb/imgsize-1086806,msid-74987707,width-200,resizemode-4/74987707.jpg\" pg=\"-nri/middle-east-news#Story_View-8-geturl\" src=\"https://timesofindia.indiatimes.com/photo/34824568.cms\"/></a>,\n",
       " <a class=\"w_img\" href=\"/videos/news/covid-19-pm-narendra-modi-addresses-the-nation-with-mann-ki-baat/videoshow/75387398.cms\" pg=\"World-rhs-videos#Video_View-1-geturl\" title=\"Covid-19: PM Narendra Modi addresses the nation with ‘Mann Ki Baat’\"><img alt=\"Covid-19: PM Narendra Modi addresses the nation with ‘Mann Ki Baat’\" data-src=\"https://timesofindia.indiatimes.com/thumb/imgsize-332047,msid-75387398,width-220,resizemode-4/75387398.jpg\" pg=\"World-rhs-videos#Video_View-1-geturl\" src=\"https://timesofindia.indiatimes.com/photo/34824568.cms\"/><i class=\"iconvideo\"></i></a>,\n",
       " <a class=\"w_img\" href=\"/videos/entertainment/hindi/sara-ali-khans-latest-post-workout-photograph-with-shirtless-ibrahim-ali-khan-is-breaking-the-internet/videoshow/75387942.cms\" pg=\"World-rhs-videos#Video_View-2-geturl\" title=\"Sara shares post workout photo with brother Ibrahim\"><img alt=\"Sara shares post workout photo with brother Ibrahim\" data-src=\"https://timesofindia.indiatimes.com/thumb/imgsize-195005,msid-75387942,width-220,resizemode-4/75387942.jpg\" pg=\"World-rhs-videos#Video_View-2-geturl\" src=\"https://timesofindia.indiatimes.com/photo/34824568.cms\"/><i class=\"iconvideo\"></i></a>,\n",
       " <a class=\"w_img\" href=\"/videos/entertainment/hindi/coronavirus-lockdown-bat-enters-amitabh-bachchans-jalsa-residence-in-mumbai-actor-shares-details/videoshow/75387474.cms\" pg=\"World-rhs-videos#Video_View-3-geturl\" title=\"Bat enters Big B's Jalsa residence in Mumbai\"><img alt=\"Bat enters Big B's Jalsa residence in Mumbai\" data-src=\"https://timesofindia.indiatimes.com/thumb/imgsize-140729,msid-75387474,width-220,resizemode-4/75387474.jpg\" pg=\"World-rhs-videos#Video_View-3-geturl\" src=\"https://timesofindia.indiatimes.com/photo/34824568.cms\"/><i class=\"iconvideo\"></i></a>,\n",
       " <a class=\"w_img\" href=\"/videos/news/madhya-pradesh-traffic-cop-schooling-lockdown-violators-in-unique-style/videoshow/75381786.cms\" pg=\"World-rhs-videos#Video_View-4-geturl\" title=\"Madhya Pradesh: Traffic cop schooling lockdown violators in unique style\"><img alt=\"Madhya Pradesh: Traffic cop schooling lockdown violators in unique style\" data-src=\"https://timesofindia.indiatimes.com/thumb/imgsize-946933,msid-75381786,width-220,resizemode-4/75381786.jpg\" pg=\"World-rhs-videos#Video_View-4-geturl\" src=\"https://timesofindia.indiatimes.com/photo/34824568.cms\"/><i class=\"iconvideo\"></i></a>,\n",
       " <a class=\"w_img\" href=\"/videos/news/over-60-snake-offspring-rescued-from-a-house-in-odisha/videoshow/75385427.cms\" pg=\"World-rhs-videos#Video_View-5-geturl\" title=\"Odisha: Over 60 snake offspring rescued\"><img alt=\"Odisha: Over 60 snake offspring rescued\" data-src=\"https://timesofindia.indiatimes.com/thumb/imgsize-253215,msid-75385427,width-220,resizemode-4/75385427.jpg\" pg=\"World-rhs-videos#Video_View-5-geturl\" src=\"https://timesofindia.indiatimes.com/photo/34824568.cms\"/><i class=\"iconvideo\"></i></a>]"
      ]
     },
     "execution_count": 12,
     "metadata": {},
     "output_type": "execute_result"
    }
   ],
   "source": [
    "soup = BeautifulSoup(r.content, 'html5lib') \n",
    "table = soup.findAll('a', attrs = {'class':'w_img'})\n",
    "# table = soup.findAll('a', attrs = {'class':'lnk'})\n",
    "table"
   ]
  },
  {
   "cell_type": "code",
   "execution_count": 13,
   "metadata": {},
   "outputs": [
    {
     "data": {
      "text/plain": [
       "['https://timesofindia.indiatimes.com/world/europe/as-virus-lockdown-eases-italy-ponders-what-went-wrong/articleshow/75393376.cms',\n",
       " 'https://timesofindia.indiatimes.com/videos/news/covid-19-lockdown-reveals-fresh-and-clean-air-in-india/videoshow/75293007.cms',\n",
       " 'https://timesofindia.indiatimes.com/videos/international/irans-guard-says-it-launched-satellite/videoshow/75292890.cms',\n",
       " 'https://timesofindia.indiatimes.com/videos/international/covid-19-virus-shutdown-shows-human-impact-on-earth/videoshow/75292958.cms',\n",
       " 'https://timesofindia.indiatimes.com/videos/international/san-francisco-dog-stolen-in-december-has-joyous-reunion-with-owner/videoshow/75292867.cms',\n",
       " 'https://timesofindia.indiatimes.com/videos/news/covid-19-oil-prices-drop-to-historic-lows-after-extreme-collapse-in-demand/videoshow/75263963.cms',\n",
       " 'https://timesofindia.indiatimes.com/videos/international/covid-19-los-angeles-study-indicates-higher-infection-rate/videoshow/75270198.cms',\n",
       " 'https://timesofindia.indiatimes.com/videos/international/covid-19-president-trump-says-politics-is-behind-testing-criticism/videoshow/75270317.cms',\n",
       " 'https://timesofindia.indiatimes.com/videos/international/covid-19-cemetery-races-to-keep-up-as-new-york-deaths-mount/videoshow/75270226.cms',\n",
       " 'https://timesofindia.indiatimes.com/videos/international/texans-visit-state-parks-in-governors-reopening/videoshow/75270363.cms',\n",
       " 'https://timesofindia.indiatimes.com/videos/international/covid-19-protest-in-favour-of-easing-lockdown-in-us/videoshow/75232498.cms',\n",
       " 'https://timesofindia.indiatimes.com/world/us/donald-trump-may-replace-health-secretary-seema-verma-in-succession-shortlist/articleshow/75387934.cms',\n",
       " 'https://timesofindia.indiatimes.com/world/pakistan/pak-denies-preparing-vaccine-for-covid-19-cases-cross-12000/articleshow/75389506.cms',\n",
       " 'https://timesofindia.indiatimes.com/world/south-asia/bangladesh-garment-factories-reopen-defying-virus-lockdown/articleshow/75390166.cms',\n",
       " 'https://timesofindia.indiatimes.com/world/uk/uk-resists-calls-to-ease-lockdown-as-johnson-set-to-return-to-work/articleshow/75390615.cms',\n",
       " 'https://timesofindia.indiatimes.com/world/europe/german-minister-backs-creating-legal-right-to-work-from-home/articleshow/75393052.cms',\n",
       " 'https://timesofindia.indiatimes.com/world/china/covid-19-cases-in-wuhan-hospitals-drop-to-zero-for-1st-time/articleshow/75390046.cms',\n",
       " 'https://timesofindia.indiatimes.com/world/middle-east/saudi-arabia-eases-coronavirus-curfews-keeps-24-hour-curfew-in-mecca/articleshow/75388977.cms',\n",
       " 'https://timesofindia.indiatimes.com/world/rest-of-world/russia-at-risk-of-spike-in-coronavirus-cases-during-may-holidays-official/articleshow/75392812.cms',\n",
       " 'https://timesofindia.indiatimes.com/world/mad-mad-world/man-tries-to-smuggle-girlfriend-in-car-trunk-during-lockdown/articleshow/75347310.cms',\n",
       " 'https://timesofindia.indiatimes.com/nri/us-canada-news/indian-american-lawyer-seema-nanda-to-step-down-as-ceo-of-democratic-party/articleshow/75371135.cms',\n",
       " 'https://timesofindia.indiatimes.com/nri/indian-american-woman-elected-to-american-academy-of-arts-and-sciences/articleshow/75372404.cms',\n",
       " 'https://timesofindia.indiatimes.com/nri/coronavirus-indian-american-ngo-raises-1-million-for-relief-work-in-us-india/articleshow/75340264.cms',\n",
       " 'https://timesofindia.indiatimes.com/nri/us-canada-news/indian-origin-doctor-honoured-for-her-services-in-fighting-coronavirus-in-us/articleshow/75302847.cms',\n",
       " 'https://timesofindia.indiatimes.com/nri/indian-origin-man-charged-with-coronavirus-related-offences-in-singapore/articleshow/75291371.cms',\n",
       " 'https://timesofindia.indiatimes.com/india/indian-origin-nobel-laureate-venki-ramakrishnan-in-uks-covid-19-expert-group/articleshow/75206707.cms',\n",
       " 'https://timesofindia.indiatimes.com/nri/us-canada-news/indian-american-congressman-ro-khanna-in-white-house-coronavirus-advisory-council/articleshow/75191948.cms',\n",
       " 'https://timesofindia.indiatimes.com/nri/middle-east-news/3-indian-expats-in-uae-win-5-million-jackpot/articleshow/74987711.cms',\n",
       " 'https://timesofindia.indiatimes.com/videos/news/covid-19-pm-narendra-modi-addresses-the-nation-with-mann-ki-baat/videoshow/75387398.cms',\n",
       " 'https://timesofindia.indiatimes.com/videos/entertainment/hindi/sara-ali-khans-latest-post-workout-photograph-with-shirtless-ibrahim-ali-khan-is-breaking-the-internet/videoshow/75387942.cms',\n",
       " 'https://timesofindia.indiatimes.com/videos/entertainment/hindi/coronavirus-lockdown-bat-enters-amitabh-bachchans-jalsa-residence-in-mumbai-actor-shares-details/videoshow/75387474.cms',\n",
       " 'https://timesofindia.indiatimes.com/videos/news/madhya-pradesh-traffic-cop-schooling-lockdown-violators-in-unique-style/videoshow/75381786.cms',\n",
       " 'https://timesofindia.indiatimes.com/videos/news/over-60-snake-offspring-rescued-from-a-house-in-odisha/videoshow/75385427.cms']"
      ]
     },
     "execution_count": 13,
     "metadata": {},
     "output_type": "execute_result"
    }
   ],
   "source": [
    "news=[]\n",
    "for row in table: \n",
    "    if not row['href'].startswith('http'):\n",
    "        news.append('https://timesofindia.indiatimes.com'+row['href'])\n",
    "        \n",
    "news"
   ]
  },
  {
   "cell_type": "code",
   "execution_count": 14,
   "metadata": {},
   "outputs": [],
   "source": [
    "# i = news[0]\n",
    "# i\n",
    "# article = Article(i, language=\"en\")\n",
    "# article"
   ]
  },
  {
   "cell_type": "code",
   "execution_count": 15,
   "metadata": {},
   "outputs": [],
   "source": [
    "dt=[]\n",
    "for i in news:\n",
    "    article = Article(i, language=\"en\")\n",
    "    article.download() \n",
    "    article.parse() \n",
    "    article.nlp() \n",
    "    df={}\n",
    "    df['Title']=article.title\n",
    "    df['Text']=article.text\n",
    "    df['Summary']=article.summary\n",
    "    df['Keywords']=article.keywords\n",
    "    dt.append(df)"
   ]
  },
  {
   "cell_type": "code",
   "execution_count": 16,
   "metadata": {},
   "outputs": [
    {
     "name": "stdout",
     "output_type": "stream",
     "text": [
      "(33, 4)\n"
     ]
    },
    {
     "data": {
      "text/html": [
       "<div>\n",
       "<style scoped>\n",
       "    .dataframe tbody tr th:only-of-type {\n",
       "        vertical-align: middle;\n",
       "    }\n",
       "\n",
       "    .dataframe tbody tr th {\n",
       "        vertical-align: top;\n",
       "    }\n",
       "\n",
       "    .dataframe thead th {\n",
       "        text-align: right;\n",
       "    }\n",
       "</style>\n",
       "<table border=\"1\" class=\"dataframe\">\n",
       "  <thead>\n",
       "    <tr style=\"text-align: right;\">\n",
       "      <th></th>\n",
       "      <th>Title</th>\n",
       "      <th>Text</th>\n",
       "      <th>Summary</th>\n",
       "      <th>Keywords</th>\n",
       "    </tr>\n",
       "  </thead>\n",
       "  <tbody>\n",
       "    <tr>\n",
       "      <th>0</th>\n",
       "      <td>As virus lockdown eases, Italy ponders what we...</td>\n",
       "      <td>FILE - Lombardy, the hardest-hit region in Eur...</td>\n",
       "      <td>FILE - Lombardy, the hardest-hit region in Eur...</td>\n",
       "      <td>[lombardy, wrong, nursing, went, health, care,...</td>\n",
       "    </tr>\n",
       "    <tr>\n",
       "      <th>1</th>\n",
       "      <td>Covid-19: Lockdown reveals fresh and clean air...</td>\n",
       "      <td>Apr 22, 2020, 04:03PM IST\\n\\nSource: AP\\n\\nInd...</td>\n",
       "      <td>Apr 22, 2020, 04:03PM ISTSource: APIndia's ext...</td>\n",
       "      <td>[stay, reveals, workplaces, visibility, fresh,...</td>\n",
       "    </tr>\n",
       "    <tr>\n",
       "      <th>2</th>\n",
       "      <td>Iran's Guard says it launched satellite</td>\n",
       "      <td>Apr 22, 2020, 03:58PM IST\\n\\nSource: AP\\n\\nIra...</td>\n",
       "      <td>Apr 22, 2020, 03:58PM ISTSource: APIran's Revo...</td>\n",
       "      <td>[launched, irans, tensions, unveiling, launch,...</td>\n",
       "    </tr>\n",
       "    <tr>\n",
       "      <th>3</th>\n",
       "      <td>Covid-19: Virus shutdown shows human impact on...</td>\n",
       "      <td>Apr 22, 2020, 04:04PM IST\\n\\nSource: AP\\n\\nAn ...</td>\n",
       "      <td>As people across the globe stay home to stop t...</td>\n",
       "      <td>[world, pollution, shutdown, impact, earth, tu...</td>\n",
       "    </tr>\n",
       "    <tr>\n",
       "      <th>4</th>\n",
       "      <td>San Francisco: Dog stolen in December has joyo...</td>\n",
       "      <td>Apr 22, 2020, 03:57PM IST\\n\\nSource: AP\\n\\nFou...</td>\n",
       "      <td>Apr 22, 2020, 03:57PM ISTSource: APFour months...</td>\n",
       "      <td>[white, francisco, owner, shelter, telling, st...</td>\n",
       "    </tr>\n",
       "  </tbody>\n",
       "</table>\n",
       "</div>"
      ],
      "text/plain": [
       "                                               Title  \\\n",
       "0  As virus lockdown eases, Italy ponders what we...   \n",
       "1  Covid-19: Lockdown reveals fresh and clean air...   \n",
       "2            Iran's Guard says it launched satellite   \n",
       "3  Covid-19: Virus shutdown shows human impact on...   \n",
       "4  San Francisco: Dog stolen in December has joyo...   \n",
       "\n",
       "                                                Text  \\\n",
       "0  FILE - Lombardy, the hardest-hit region in Eur...   \n",
       "1  Apr 22, 2020, 04:03PM IST\\n\\nSource: AP\\n\\nInd...   \n",
       "2  Apr 22, 2020, 03:58PM IST\\n\\nSource: AP\\n\\nIra...   \n",
       "3  Apr 22, 2020, 04:04PM IST\\n\\nSource: AP\\n\\nAn ...   \n",
       "4  Apr 22, 2020, 03:57PM IST\\n\\nSource: AP\\n\\nFou...   \n",
       "\n",
       "                                             Summary  \\\n",
       "0  FILE - Lombardy, the hardest-hit region in Eur...   \n",
       "1  Apr 22, 2020, 04:03PM ISTSource: APIndia's ext...   \n",
       "2  Apr 22, 2020, 03:58PM ISTSource: APIran's Revo...   \n",
       "3  As people across the globe stay home to stop t...   \n",
       "4  Apr 22, 2020, 03:57PM ISTSource: APFour months...   \n",
       "\n",
       "                                            Keywords  \n",
       "0  [lombardy, wrong, nursing, went, health, care,...  \n",
       "1  [stay, reveals, workplaces, visibility, fresh,...  \n",
       "2  [launched, irans, tensions, unveiling, launch,...  \n",
       "3  [world, pollution, shutdown, impact, earth, tu...  \n",
       "4  [white, francisco, owner, shelter, telling, st...  "
      ]
     },
     "execution_count": 16,
     "metadata": {},
     "output_type": "execute_result"
    }
   ],
   "source": [
    "dataset=pd.DataFrame(dt)\n",
    "print(dataset.shape)\n",
    "dataset.head()"
   ]
  },
  {
   "cell_type": "code",
   "execution_count": 17,
   "metadata": {},
   "outputs": [],
   "source": [
    "from sklearn.ensemble import RandomForestRegressor\n",
    "from sklearn.model_selection import train_test_split"
   ]
  },
  {
   "cell_type": "code",
   "execution_count": 18,
   "metadata": {},
   "outputs": [],
   "source": [
    "def clean_cols(data):\n",
    "    \"\"\"Clean the column names by stripping and lowercase.\"\"\"\n",
    "    clean_col_map = {x: x.lower().strip() for x in list(data)}\n",
    "    return data.rename(index=str, columns=clean_col_map)\n",
    "\n",
    "def TrainTestSplit(X, Y, R=0, test_size=0.2):\n",
    "    \"\"\"Easy Train Test Split call.\"\"\"\n",
    "    return train_test_split(X, Y, test_size=test_size, random_state=R)"
   ]
  },
  {
   "cell_type": "code",
   "execution_count": 19,
   "metadata": {},
   "outputs": [],
   "source": [
    "full_data = clean_cols(pd.read_csv(FILEPATH))\n",
    "train_set, test_set = train_test_split(full_data, test_size=0.20, random_state=42)\n",
    "\n",
    "x_train = train_set.drop(['url','shares', 'timedelta', 'lda_00','lda_01','lda_02','lda_03','lda_04','num_self_hrefs', 'kw_min_min', 'kw_max_min', 'kw_avg_min','kw_min_max','kw_max_max','kw_avg_max','kw_min_avg','kw_max_avg','kw_avg_avg','self_reference_min_shares','self_reference_max_shares','self_reference_avg_sharess','rate_positive_words','rate_negative_words','abs_title_subjectivity','abs_title_sentiment_polarity'], axis=1)\n",
    "y_train = train_set['shares']\n",
    "\n",
    "x_test = test_set.drop(['url','shares', 'timedelta', 'num_self_hrefs', 'kw_min_min', 'kw_max_min', 'kw_avg_min','kw_min_max','kw_max_max','kw_avg_max','kw_min_avg','kw_max_avg','kw_avg_avg','self_reference_min_shares','self_reference_max_shares','self_reference_avg_sharess','rate_positive_words','rate_negative_words','abs_title_subjectivity','abs_title_sentiment_polarity'], axis=1)\n",
    "y_test = test_set['shares']"
   ]
  },
  {
   "cell_type": "code",
   "execution_count": 20,
   "metadata": {},
   "outputs": [
    {
     "name": "stderr",
     "output_type": "stream",
     "text": [
      "/home/aaradhya/anaconda2/envs/RuralHandmade/lib/python3.7/site-packages/sklearn/ensemble/forest.py:245: FutureWarning: The default value of n_estimators will change from 10 in version 0.20 to 100 in 0.22.\n",
      "  \"10 in version 0.20 to 100 in 0.22.\", FutureWarning)\n"
     ]
    },
    {
     "data": {
      "text/plain": [
       "RandomForestRegressor(bootstrap=True, criterion='mse', max_depth=None,\n",
       "                      max_features='auto', max_leaf_nodes=None,\n",
       "                      min_impurity_decrease=0.0, min_impurity_split=None,\n",
       "                      min_samples_leaf=1, min_samples_split=2,\n",
       "                      min_weight_fraction_leaf=0.0, n_estimators=10,\n",
       "                      n_jobs=None, oob_score=False, random_state=42, verbose=0,\n",
       "                      warm_start=False)"
      ]
     },
     "execution_count": 20,
     "metadata": {},
     "output_type": "execute_result"
    }
   ],
   "source": [
    "clf = RandomForestRegressor(random_state=42)\n",
    "clf.fit(x_train, y_train)"
   ]
  },
  {
   "cell_type": "code",
   "execution_count": 21,
   "metadata": {},
   "outputs": [],
   "source": [
    "rf_res = pd.DataFrame(clf.predict(x_train),list(y_train))"
   ]
  },
  {
   "cell_type": "code",
   "execution_count": 22,
   "metadata": {},
   "outputs": [
    {
     "data": {
      "text/html": [
       "<div>\n",
       "<style scoped>\n",
       "    .dataframe tbody tr th:only-of-type {\n",
       "        vertical-align: middle;\n",
       "    }\n",
       "\n",
       "    .dataframe tbody tr th {\n",
       "        vertical-align: top;\n",
       "    }\n",
       "\n",
       "    .dataframe thead th {\n",
       "        text-align: right;\n",
       "    }\n",
       "</style>\n",
       "<table border=\"1\" class=\"dataframe\">\n",
       "  <thead>\n",
       "    <tr style=\"text-align: right;\">\n",
       "      <th></th>\n",
       "      <th>Actual shares</th>\n",
       "      <th>Predicted shares</th>\n",
       "    </tr>\n",
       "  </thead>\n",
       "  <tbody>\n",
       "    <tr>\n",
       "      <th>0</th>\n",
       "      <td>16100</td>\n",
       "      <td>11492.9</td>\n",
       "    </tr>\n",
       "    <tr>\n",
       "      <th>1</th>\n",
       "      <td>508</td>\n",
       "      <td>1334.8</td>\n",
       "    </tr>\n",
       "    <tr>\n",
       "      <th>2</th>\n",
       "      <td>1300</td>\n",
       "      <td>1280.0</td>\n",
       "    </tr>\n",
       "    <tr>\n",
       "      <th>3</th>\n",
       "      <td>3100</td>\n",
       "      <td>2940.0</td>\n",
       "    </tr>\n",
       "    <tr>\n",
       "      <th>4</th>\n",
       "      <td>6900</td>\n",
       "      <td>5960.0</td>\n",
       "    </tr>\n",
       "  </tbody>\n",
       "</table>\n",
       "</div>"
      ],
      "text/plain": [
       "   Actual shares  Predicted shares\n",
       "0          16100           11492.9\n",
       "1            508            1334.8\n",
       "2           1300            1280.0\n",
       "3           3100            2940.0\n",
       "4           6900            5960.0"
      ]
     },
     "execution_count": 22,
     "metadata": {},
     "output_type": "execute_result"
    }
   ],
   "source": [
    "rf_res.reset_index(level=0, inplace=True)\n",
    "rf_res_df = rf_res.rename(index=str, columns={\"index\": \"Actual shares\", 0: \"Predicted shares\"})\n",
    "rf_res_df.head()"
   ]
  },
  {
   "cell_type": "markdown",
   "metadata": {},
   "source": []
  },
  {
   "cell_type": "code",
   "execution_count": 23,
   "metadata": {},
   "outputs": [],
   "source": [
    "from nltk.tokenize import word_tokenize \n",
    "from nltk.corpus import stopwords\n",
    "stopwords=set(stopwords.words('english'))"
   ]
  },
  {
   "cell_type": "code",
   "execution_count": 24,
   "metadata": {},
   "outputs": [],
   "source": [
    "def rate_unique(words):\n",
    "    words=tokenize(words)\n",
    "    no_order = list(set(words))\n",
    "    rate_unique=len(no_order)/len(words)\n",
    "    return rate_unique\n",
    "\n",
    "def rate_nonstop(words):\n",
    "    words=tokenize(words)\n",
    "    filtered_sentence = [w for w in words if not w in stopwords]\n",
    "    rate_nonstop=len(filtered_sentence)/len(words)\n",
    "    no_order = list(set(filtered_sentence))\n",
    "    rate_unique_nonstop=len(no_order)/len(words)\n",
    "    return rate_nonstop,rate_unique_nonstop\n",
    "def avg_token(words):\n",
    "    words=tokenize(words)\n",
    "    length=[]\n",
    "    for i in words:\n",
    "        length.append(len(i))\n",
    "    return np.average(length)\n"
   ]
  },
  {
   "cell_type": "code",
   "execution_count": 25,
   "metadata": {},
   "outputs": [
    {
     "ename": "ModuleNotFoundError",
     "evalue": "No module named 'textblob'",
     "output_type": "error",
     "traceback": [
      "\u001b[0;31m---------------------------------------------------------------------------\u001b[0m",
      "\u001b[0;31mModuleNotFoundError\u001b[0m                       Traceback (most recent call last)",
      "\u001b[0;32m<ipython-input-25-beb514e823a4>\u001b[0m in \u001b[0;36m<module>\u001b[0;34m\u001b[0m\n\u001b[0;32m----> 1\u001b[0;31m \u001b[0;32mfrom\u001b[0m \u001b[0mtextblob\u001b[0m \u001b[0;32mimport\u001b[0m \u001b[0mTextBlob\u001b[0m\u001b[0;34m\u001b[0m\u001b[0;34m\u001b[0m\u001b[0m\n\u001b[0m",
      "\u001b[0;31mModuleNotFoundError\u001b[0m: No module named 'textblob'"
     ]
    }
   ],
   "source": [
    "from textblob import TextBlob"
   ]
  },
  {
   "cell_type": "code",
   "execution_count": null,
   "metadata": {},
   "outputs": [],
   "source": [
    "import datefinder\n",
    "import datetime  \n",
    "from datetime import date \n",
    "def day(article_text):\n",
    "    article=article_text\n",
    "    if len(list(datefinder.find_dates(article)))>0:\n",
    "        date=str(list(datefinder.find_dates(article))[0])\n",
    "        date=date.split()\n",
    "        date=date[0]\n",
    "        year, month, day = date.split('-')     \n",
    "        day_name = datetime.date(int(year), int(month), int(day)) \n",
    "        return day_name.strftime(\"%A\")\n",
    "    return \"Monday\""
   ]
  },
  {
   "cell_type": "code",
   "execution_count": null,
   "metadata": {},
   "outputs": [],
   "source": [
    "def tokenize(text):\n",
    "    text=text\n",
    "    return word_tokenize(text)"
   ]
  },
  {
   "cell_type": "code",
   "execution_count": null,
   "metadata": {},
   "outputs": [],
   "source": [
    "pos_words=[]\n",
    "neg_words=[]\n",
    "def polar(words):\n",
    "    all_tokens=tokenize(words)\n",
    "    for i in all_tokens:\n",
    "        analysis=TextBlob(i)\n",
    "        polarity=analysis.sentiment.polarity\n",
    "        if polarity>0:\n",
    "            pos_words.append(i)\n",
    "        if polarity<0:\n",
    "            neg_words.append(i)\n",
    "    return pos_words,neg_words"
   ]
  },
  {
   "cell_type": "code",
   "execution_count": null,
   "metadata": {},
   "outputs": [],
   "source": [
    "def rates(words):\n",
    "    words=polar(words)\n",
    "    pos=words[0]\n",
    "    neg=words[1]\n",
    "    all_words=words\n",
    "    global_rate_positive_words=(len(pos)/len(all_words))/100\n",
    "    global_rate_negative_words=(len(neg)/len(all_words))/100\n",
    "    pol_pos=[]\n",
    "    pol_neg=[]\n",
    "    for i in pos:\n",
    "        analysis=TextBlob(i)\n",
    "        pol_pos.append(analysis.sentiment.polarity)\n",
    "        avg_positive_polarity=analysis.sentiment.polarity\n",
    "    for j in neg:\n",
    "        analysis2=TextBlob(j)\n",
    "        pol_neg.append(analysis2.sentiment.polarity)\n",
    "        avg_negative_polarity=analysis2.sentiment.polarity\n",
    "    min_positive_polarity=min(pol_pos)\n",
    "    max_positive_polarity=max(pol_pos)\n",
    "    min_negative_polarity=min(pol_neg)\n",
    "    max_negative_polarity=max(pol_neg)\n",
    "    avg_positive_polarity=np.average(pol_pos)\n",
    "    avg_negative_polarity=np.average(pol_neg)\n",
    "    return global_rate_positive_words,global_rate_negative_words,avg_positive_polarity,min_positive_polarity,\n",
    "            max_positive_polarity,avg_negative_polarity,min_negative_polarity,max_negative_polarity"
   ]
  },
  {
   "cell_type": "code",
   "execution_count": null,
   "metadata": {},
   "outputs": [],
   "source": [
    "df2=[]\n",
    "for i in news:\n",
    "    pred_info={}\n",
    "    article = Article(i, language=\"en\") # en for English \n",
    "    article.download() \n",
    "    article.parse()\n",
    "    analysis=TextBlob(article.text)\n",
    "    polarity=analysis.sentiment.polarity\n",
    "    title_analysis=TextBlob(article.title)\n",
    "    pred_info['text']=article.text\n",
    "    pred_info['n_tokens_title']=len(tokenize(article.title))\n",
    "    pred_info['n_tokens_content']=len(tokenize(article.text))\n",
    "    pred_info['n_unique_tokens']=rate_unique(article.text)\n",
    "    pred_info['n_non_stop_words']=rate_nonstop(article.text)[0]\n",
    "    pred_info['n_non_stop_unique_tokens']=rate_nonstop(article.text)[1]\n",
    "    pred_info['num_hrefs']=article.html.count(\"https://timesofindia.indiatimes.com\")\n",
    "    pred_info['num_imgs']=len(article.images)\n",
    "    pred_info['num_videos']=len(article.movies)\n",
    "    pred_info['average_token_length']=avg_token(article.text)\n",
    "    pred_info['num_keywords']=len(article.keywords)\n",
    "    \n",
    "    if \"life-style\" in article.url:\n",
    "        pred_info['data_channel_is_lifestyle']=1\n",
    "    else:\n",
    "        pred_info['data_channel_is_lifestyle']=0\n",
    "    if \"etimes\" in article.url:\n",
    "        pred_info['data_channel_is_entertainment']=1\n",
    "    else:\n",
    "        pred_info['data_channel_is_entertainment']=0\n",
    "    if \"business\" in article.url:\n",
    "        pred_info['data_channel_is_bus']=1\n",
    "    else:\n",
    "        pred_info['data_channel_is_bus']=0\n",
    "    if \"social media\" or \"facebook\" or \"whatsapp\" in article.text.lower():\n",
    "        data_channel_is_socmed=1\n",
    "        data_channel_is_tech=0\n",
    "        data_channel_is_world=0\n",
    "    else:\n",
    "        data_channel_is_socmed=0\n",
    "    if (\"technology\" or \"tech\" in article.text.lower()) or (\"technology\" or \"tech\" in article.url):\n",
    "        data_channel_is_tech=1\n",
    "        data_channel_is_socmed=0\n",
    "        data_channel_is_world=0\n",
    "    else:\n",
    "        data_channel_is_tech=0\n",
    "    if \"world\" in article.url:\n",
    "        data_channel_is_world=1\n",
    "        data_channel_is_tech=0\n",
    "        data_channel_is_socmed=0\n",
    "    else:\n",
    "        data_channel_is_world=0\n",
    "        \n",
    "    pred_info['data_channel_is_socmed']=data_channel_is_socmed\n",
    "    pred_info['data_channel_is_tech']=data_channel_is_tech\n",
    "    pred_info['data_channel_is_world']=data_channel_is_world\n",
    "    \n",
    "    if day(i)==\"Monday\":\n",
    "        pred_info['weekday_is_monday']=1\n",
    "    else:\n",
    "        pred_info['weekday_is_monday']=0\n",
    "    if day(i)==\"Tuesday\":\n",
    "        pred_info['weekday_is_tuesday']=1\n",
    "    else:\n",
    "        pred_info['weekday_is_tuesday']=0\n",
    "    if day(i)==\"Wednesday\":\n",
    "        pred_info['weekday_is_wednesday']=1\n",
    "    else:\n",
    "        pred_info['weekday_is_wednesday']=0\n",
    "    if day(i)==\"Thursday\":\n",
    "        pred_info['weekday_is_thursday']=1\n",
    "    else:\n",
    "        pred_info['weekday_is_thursday']=0\n",
    "    if day(i)==\"Friday\":\n",
    "        pred_info['weekday_is_friday']=1\n",
    "    else:\n",
    "        pred_info['weekday_is_friday']=0\n",
    "    if day(i)==\"Saturday\":\n",
    "        pred_info['weekday_is_saturday']=1\n",
    "        pred_info['is_weekend']=1\n",
    "    else:\n",
    "        pred_info['weekday_is_saturday']=0\n",
    "    if day(i)==\"Sunday\":\n",
    "        pred_info['weekday_is_sunday']=1\n",
    "        pred_info['is_weekend']=1\n",
    "    else:\n",
    "        pred_info['weekday_is_sunday']=0\n",
    "        pred_info['is_weekend']=0\n",
    "        \n",
    "    pred_info['global_subjectivity']=analysis.sentiment.subjectivity\n",
    "    pred_info['global_sentiment_polarity']=analysis.sentiment.polarity\n",
    "    pred_info['global_rate_positive_words']=rates(article.text)[0]\n",
    "    pred_info['global_rate_negative_words']=rates(article.text)[1]\n",
    "    pred_info['avg_positive_polarity']=rates(article.text)[2]\n",
    "    pred_info['min_positive_polarity']=rates(article.text)[3]\n",
    "    pred_info['max_positive_polarity']=rates(article.text)[4]\n",
    "    pred_info['avg_negative_polarity']=rates(article.text)[5]\n",
    "    pred_info['min_negative_polarity']=rates(article.text)[6]\n",
    "    pred_info['max_negative_polarity']=rates(article.text)[7]    \n",
    "    pred_info['title_subjectivity']=title_analysis.sentiment.subjectivity\n",
    "    pred_info['title_sentiment_polarity']=title_analysis.sentiment.polarity\n",
    "    df2.append(pred_info)"
   ]
  },
  {
   "cell_type": "code",
   "execution_count": null,
   "metadata": {},
   "outputs": [],
   "source": [
    "pred_df=pd.DataFrame(df2)\n",
    "pred_test=pred_df.drop(['text'],axis=1)\n",
    "pred_df.head()"
   ]
  },
  {
   "cell_type": "code",
   "execution_count": null,
   "metadata": {},
   "outputs": [],
   "source": [
    "test2=pd.DataFrame(clf.predict(pred_test),pred_df['text'])\n",
    "test2.reset_index(level=0, inplace=True)\n",
    "test2 = test2.rename(index=str, columns={\"index\": \"News\", 0: \"Virality\"})\n",
    "test2"
   ]
  },
  {
   "cell_type": "code",
   "execution_count": null,
   "metadata": {},
   "outputs": [],
   "source": []
  },
  {
   "cell_type": "code",
   "execution_count": null,
   "metadata": {},
   "outputs": [],
   "source": []
  },
  {
   "cell_type": "code",
   "execution_count": null,
   "metadata": {},
   "outputs": [],
   "source": []
  },
  {
   "cell_type": "code",
   "execution_count": null,
   "metadata": {},
   "outputs": [],
   "source": []
  },
  {
   "cell_type": "code",
   "execution_count": null,
   "metadata": {},
   "outputs": [],
   "source": []
  }
 ],
 "metadata": {
  "kernelspec": {
   "display_name": "Python 3",
   "language": "python",
   "name": "python3"
  },
  "language_info": {
   "codemirror_mode": {
    "name": "ipython",
    "version": 3
   },
   "file_extension": ".py",
   "mimetype": "text/x-python",
   "name": "python",
   "nbconvert_exporter": "python",
   "pygments_lexer": "ipython3",
   "version": "3.7.3"
  }
 },
 "nbformat": 4,
 "nbformat_minor": 2
}
